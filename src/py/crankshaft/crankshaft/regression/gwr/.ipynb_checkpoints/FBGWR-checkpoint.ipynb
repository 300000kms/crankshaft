{
 "cells": [
  {
   "cell_type": "code",
   "execution_count": 1,
   "metadata": {
    "collapsed": false
   },
   "outputs": [],
   "source": [
    "import sys\n",
    "import numpy as np\n",
    "import pandas as pd\n",
    "import pysal as ps\n",
    "sys.path.append('/Users/toshan/Dropbox/GWR/PyGWRJing/PyGWR/')\n",
    "from M_FBGWR_May2016 import FBGWR\n",
    "from M_GWGLM import GWGLM\n",
    "from M_selection import Band_Sel\n",
    "import scipy"
   ]
  },
  {
   "cell_type": "code",
   "execution_count": 2,
   "metadata": {
    "collapsed": false
   },
   "outputs": [],
   "source": [
    "path = ps.examples.get_path('GData_utm.csv')\n",
    "shp = pd.read_csv(path)"
   ]
  },
  {
   "cell_type": "code",
   "execution_count": 3,
   "metadata": {
    "collapsed": false
   },
   "outputs": [],
   "source": [
    "# Prep data into design matrix and coordinates\n",
    "\n",
    "#Dependent variable\n",
    "y = shp.PctBach.reshape((-1,1))\n",
    "\n",
    "#Design matrix - covariates - intercept added automatically\n",
    "pov = shp.PctPov.reshape((-1,1))\n",
    "rural = shp.PctRural.reshape((-1,1))\n",
    "blk = shp.PctBlack.reshape((-1,1))\n",
    "X = np.hstack([pov, rural, blk])\n",
    "labels = ['Intercept', 'PctPov', 'PctRural', 'PctBlack']\n",
    "\n",
    "#Coordinates for calibration points\n",
    "u = shp.X\n",
    "v = shp.Y\n",
    "coords = zip(u,v)\n",
    "\n",
    "coords_dict = {}\n",
    "for i, x in enumerate(coords):\n",
    "        coords_dict[i] = x"
   ]
  },
  {
   "cell_type": "code",
   "execution_count": 4,
   "metadata": {
    "collapsed": false
   },
   "outputs": [
    {
     "name": "stdout",
     "output_type": "stream",
     "text": [
      "(60.0, <Kernel.GWR_W object at 0x10b73a450>, [(89.0, 1088.4132720309442), (73.0, 1082.7676645259439), (62.0, 1079.8414440181946), (62.0, 1079.8414440181946), (62.0, 1079.8414440181946), (60.0, 1079.6668177916372), (60.0, 1079.6668177916372), (60.0, 1079.6668177916372)])\n",
      "CPU times: user 1.75 s, sys: 80.7 ms, total: 1.83 s\n",
      "Wall time: 1.75 s\n"
     ]
    }
   ],
   "source": [
    "%%time\n",
    "print Band_Sel(y, None, X, coords_dict)"
   ]
  },
  {
   "cell_type": "code",
   "execution_count": 5,
   "metadata": {
    "collapsed": true
   },
   "outputs": [],
   "source": [
    "from pysal.contrib.gwr.sel_bw import Sel_BW\n",
    "from pysal.contrib.gwr.gwr import GWR"
   ]
  },
  {
   "cell_type": "code",
   "execution_count": null,
   "metadata": {
    "collapsed": false
   },
   "outputs": [
    {
     "name": "stdout",
     "output_type": "stream",
     "text": [
      "60.0\n",
      "CPU times: user 1.1 s, sys: 3.5 ms, total: 1.11 s\n",
      "Wall time: 1.1 s\n"
     ]
    }
   ],
   "source": [
    "%%time\n",
    "print Sel_BW(coords, y, X, [], kernel='bisquare', constant=False).search()\n"
   ]
  },
  {
   "cell_type": "code",
   "execution_count": null,
   "metadata": {
    "collapsed": false
   },
   "outputs": [],
   "source": [
    "%%time\n",
    "results = FBGWR(y, X, coords_dict, tolFB=1e-03)"
   ]
  },
  {
   "cell_type": "code",
   "execution_count": null,
   "metadata": {
    "collapsed": false,
    "scrolled": false
   },
   "outputs": [],
   "source": [
    "%%time\n",
    "sel = Sel_BW(coords, y, X, [], kernel='bisquare', fb=True, constant=False)\n",
    "results = sel.search(tol_fb=1e-03)"
   ]
  }
 ],
 "metadata": {
  "anaconda-cloud": {},
  "kernelspec": {
   "display_name": "Python [fbgwr]",
   "language": "python",
   "name": "Python [fbgwr]"
  },
  "language_info": {
   "codemirror_mode": {
    "name": "ipython",
    "version": 2
   },
   "file_extension": ".py",
   "mimetype": "text/x-python",
   "name": "python",
   "nbconvert_exporter": "python",
   "pygments_lexer": "ipython2",
   "version": "2.7.12"
  }
 },
 "nbformat": 4,
 "nbformat_minor": 0
}
